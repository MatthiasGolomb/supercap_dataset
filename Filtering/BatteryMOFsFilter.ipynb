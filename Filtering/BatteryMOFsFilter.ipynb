{
 "cells": [
  {
   "cell_type": "code",
   "execution_count": 10,
   "id": "fd4354d0",
   "metadata": {},
   "outputs": [],
   "source": [
    "from mpcontribs.client import Client\n",
    "import os\n",
    "from pymatgen.io.ase import AseAtomsAdaptor\n",
    "from ase.geometry.dimensionality import analyze_dimensionality\n",
    "from ase.io import write"
   ]
  },
  {
   "cell_type": "markdown",
   "id": "d8a38cfe",
   "metadata": {},
   "source": [
    "Getting all transition Metal MOFs without Zn. MPContrib needs a bit of setup. A rather incomplete documentation can be found on https://workshop.materialsproject.org/lessons/07_mpcontribs/contribute/"
   ]
  },
  {
   "cell_type": "code",
   "execution_count": 3,
   "id": "c0b58660",
   "metadata": {},
   "outputs": [],
   "source": [
    "client = Client()\n",
    "\n",
    "# Get transition metal MOFs without Zn\n",
    "\n",
    "query_Sc = {'project':'qmof', 'formula__contains':'Sc',\n",
    "         '_fields':['id','project', 'formula','data.EgPBE.value', 'data.EgHSE06.value'],\n",
    "           '_limit':500}\n",
    "contribs_Sc = client.contributions.get_entries(**query_Sc).result()\n",
    "\n",
    "query_Ti = {'project':'qmof', 'formula__contains':'Ti',\n",
    "         '_fields':['id','project', 'formula','data.EgPBE.value', 'data.EgHSE06.value'],\n",
    "           '_limit':500}\n",
    "contribs_Ti = client.contributions.get_entries(**query_Ti).result()\n",
    "\n",
    "query_V = {'project':'qmof', 'formula__contains':'V',\n",
    "         '_fields':['id','project', 'formula','data.EgPBE.value', 'data.EgHSE06.value'],\n",
    "          '_limit':500}\n",
    "contribs_V = client.contributions.get_entries(**query_V).result()\n",
    "\n",
    "query_Cr = {'project':'qmof', 'formula__contains':'Cr',\n",
    "         '_fields':['id','project', 'formula','data.EgPBE.value', 'data.EgHSE06.value'],\n",
    "           '_limit':500}\n",
    "contribs_Cr = client.contributions.get_entries(**query_Cr).result()\n",
    "\n",
    "query_Mn_0 = {'project':'qmof', 'formula__contains':'Mn',\n",
    "         '_fields':['id','project', 'formula','data.EgPBE.value', 'data.EgHSE06.value'],\n",
    "           '_limit':500}\n",
    "contribs_Mn_0 = client.contributions.get_entries(**query_Mn_0).result()\n",
    "\n",
    "query_Mn_1 = {'project':'qmof', 'formula__contains':'Mn',\n",
    "         '_fields':['id','project', 'formula','data.EgPBE.value', 'data.EgHSE06.value'],\n",
    "           '_limit':500, '_skip':500}\n",
    "contribs_Mn_1 = client.contributions.get_entries(**query_Mn_1).result()\n",
    "\n",
    "query_Fe = {'project':'qmof', 'formula__contains':'Fe',\n",
    "         '_fields':['id','project', 'formula','data.EgPBE.value', 'data.EgHSE06.value'],\n",
    "           '_limit':500}\n",
    "contribs_Fe = client.contributions.get_entries(**query_Fe).result()\n",
    "\n",
    "query_Co_0 = {'project':'qmof', 'formula__contains':'Co',\n",
    "         '_fields':['id','project', 'formula','data.EgPBE.value', 'data.EgHSE06.value'],\n",
    "           '_limit':500}\n",
    "contribs_Co_0 = client.contributions.get_entries(**query_Co_0).result()\n",
    "\n",
    "query_Co_1 = {'project':'qmof', 'formula__contains':'Co',\n",
    "         '_fields':['id','project', 'formula','data.EgPBE.value', 'data.EgHSE06.value'],\n",
    "           '_limit':500, '_skip':500}\n",
    "contribs_Co_1 = client.contributions.get_entries(**query_Co_1).result()\n",
    "\n",
    "query_Ni_0 = {'project':'qmof', 'formula__contains':'Ni',\n",
    "         '_fields':['id','project', 'formula','data.EgPBE.value', 'data.EgHSE06.value'],\n",
    "           '_limit':500}\n",
    "contribs_Ni_0 = client.contributions.get_entries(**query_Ni_0).result()\n",
    "\n",
    "query_Ni_1 = {'project':'qmof', 'formula__contains':'Ni',\n",
    "         '_fields':['id','project', 'formula','data.EgPBE.value', 'data.EgHSE06.value'],\n",
    "           '_limit':500, '_skip':500}\n",
    "contribs_Ni_1 = client.contributions.get_entries(**query_Ni_1).result()\n",
    "\n",
    "query_Cu_0 = {'project':'qmof', 'formula__contains':'Cu',\n",
    "         '_fields':['id','project', 'formula','data.EgPBE.value', 'data.EgHSE06.value'], \n",
    "           '_limit':500}\n",
    "contribs_Cu_0 = client.contributions.get_entries(**query_Cu_0).result()\n",
    "\n",
    "query_Cu_1 = {'project':'qmof', 'formula__contains':'Cu',\n",
    "         '_fields':['id','project', 'formula','data.EgPBE.value', 'data.EgHSE06.value'], \n",
    "           '_limit':500, '_skip':500}\n",
    "contribs_Cu_1 = client.contributions.get_entries(**query_Cu_1).result()\n",
    "\n",
    "query_Cu_2 = {'project':'qmof', 'formula__contains':'Cu',\n",
    "         '_fields':['id','project', 'formula','data.EgPBE.value', 'data.EgHSE06.value'], \n",
    "           '_limit':500, '_skip':1000}\n",
    "contribs_Cu_2 = client.contributions.get_entries(**query_Cu_2).result()\n",
    "\n",
    "query_Cu_3 = {'project':'qmof', 'formula__contains':'Cu',\n",
    "         '_fields':['id','project', 'formula','data.EgPBE.value', 'data.EgHSE06.value'], \n",
    "           '_limit':500, '_skip':1500}\n",
    "contribs_Cu_3 = client.contributions.get_entries(**query_Cu_3).result()\n",
    "\n",
    "query_Cu_4 = {'project':'qmof', 'formula__contains':'Cu',\n",
    "         '_fields':['id','project', 'formula','data.EgPBE.value', 'data.EgHSE06.value'], \n",
    "           '_limit':500, '_skip':2000}\n",
    "contribs_Cu_4 = client.contributions.get_entries(**query_Cu_4).result()\n",
    "\n",
    "query_Cu_5 = {'project':'qmof', 'formula__contains':'Cu',\n",
    "         '_fields':['id','project', 'formula','data.EgPBE.value', 'data.EgHSE06.value'], \n",
    "           '_limit':500, '_skip':2500}\n",
    "contribs_Cu_5 = client.contributions.get_entries(**query_Cu_5).result()\n",
    "\n",
    "query_Cu_6 = {'project':'qmof', 'formula__contains':'Cu',\n",
    "         '_fields':['id','project', 'formula','data.EgPBE.value', 'data.EgHSE06.value'], \n",
    "           '_limit':500, '_skip':3000}\n",
    "contribs_Cu_6 = client.contributions.get_entries(**query_Cu_6).result()"
   ]
  },
  {
   "cell_type": "code",
   "execution_count": 54,
   "id": "bf373461",
   "metadata": {},
   "outputs": [],
   "source": [
    "# Merging queries that went beyond the limit (500 is the maximum query limit set by MPContrib)\n",
    "\n",
    "contribs_Mn = contribs_Mn_0['data'].copy()\n",
    "contribs_Mn.extend(contribs_Mn_1['data'])\n",
    "\n",
    "contribs_Co = contribs_Co_0['data'].copy()\n",
    "contribs_Co.extend(contribs_Co_1['data'])\n",
    "\n",
    "contribs_Ni = contribs_Ni_0['data'].copy()\n",
    "contribs_Ni.extend(contribs_Ni_1['data'])\n",
    "\n",
    "contribs_Cu = contribs_Cu_0['data'].copy()\n",
    "contribs_Cu.extend(contribs_Cu_1['data'])\n",
    "contribs_Cu.extend(contribs_Cu_2['data'])\n",
    "contribs_Cu.extend(contribs_Cu_3['data'])\n",
    "contribs_Cu.extend(contribs_Cu_4['data'])\n",
    "contribs_Cu.extend(contribs_Cu_5['data'])\n",
    "contribs_Cu.extend(contribs_Cu_6['data'])"
   ]
  },
  {
   "cell_type": "markdown",
   "id": "d73c4bf8",
   "metadata": {},
   "source": [
    "Get structure ids, then transform to ASE and check for dimensionality according to https://journals.aps.org/prmaterials/abstract/10.1103/PhysRevMaterials.3.034003. \n",
    "\n",
    "We wanted a diverse dataset for machine learning which is why I adjusted the score parameter individually to at least have three MOFs for every transition metal. Maybe implementing a screening for pore diameter would be appropriate to guarantee a pore with a plateauing hartree potential."
   ]
  },
  {
   "cell_type": "markdown",
   "id": "3bd229fc",
   "metadata": {},
   "source": [
    "Cu"
   ]
  },
  {
   "cell_type": "code",
   "execution_count": 166,
   "id": "412143c0",
   "metadata": {
    "tags": []
   },
   "outputs": [
    {
     "data": {
      "text/plain": [
       "3049"
      ]
     },
     "execution_count": 166,
     "metadata": {},
     "output_type": "execute_result"
    }
   ],
   "source": [
    "struct_ids = []\n",
    "for contrib in contribs_Cu:\n",
    "    c = client.get_contribution(contrib['id'])\n",
    "    struct_ids.append(c[\"structures\"][0]['id'])"
   ]
  },
  {
   "cell_type": "code",
   "execution_count": 167,
   "id": "c2607488",
   "metadata": {},
   "outputs": [],
   "source": [
    "ase_structs = []\n",
    "for struct_id in struct_ids:\n",
    "    s = client.get_structure(struct_id)\n",
    "    s_ase = AseAtomsAdaptor.get_atoms(s)\n",
    "    ase_structs.append(s_ase)"
   ]
  },
  {
   "cell_type": "code",
   "execution_count": 168,
   "id": "7f53d242",
   "metadata": {},
   "outputs": [],
   "source": [
    "ase_2D_structs = []\n",
    "ase_2D_structs_score = []\n",
    "\n",
    "for atoms in ase_structs:\n",
    "    intervals = analyze_dimensionality(atoms, method='RDA')\n",
    "    m = intervals[0]\n",
    "    if m.dimtype == '2D' and m.score > 0.95:\n",
    "        ase_2D_structs.append(atoms)\n",
    "        ase_2D_structs_score.append(m.score)"
   ]
  },
  {
   "cell_type": "code",
   "execution_count": 170,
   "id": "e3adb4c5",
   "metadata": {},
   "outputs": [],
   "source": [
    "if not os.path.exists('./Cu_Structures'):\n",
    "    os.makedirs('./Cu_Structures')\n",
    "    \n",
    "os.chdir('./Cu_Structures')\n",
    "\n",
    "for struct in ase_2D_structs:\n",
    "    write('geometry_{formula}.in'.format(formula=struct.symbols), struct, wrap=True, scaled=True)\n",
    "    \n",
    "os.chdir('..')"
   ]
  },
  {
   "cell_type": "markdown",
   "id": "37a5b475",
   "metadata": {},
   "source": [
    "Sc"
   ]
  },
  {
   "cell_type": "code",
   "execution_count": 8,
   "id": "40ebe6b9",
   "metadata": {},
   "outputs": [],
   "source": [
    "struct_ids = []\n",
    "for contrib in contribs_Sc['data']:\n",
    "    c = client.get_contribution(contrib['id'])\n",
    "    struct_ids.append(c[\"structures\"][0]['id'])"
   ]
  },
  {
   "cell_type": "code",
   "execution_count": 9,
   "id": "ca7135b3",
   "metadata": {},
   "outputs": [],
   "source": [
    "ase_structs = []\n",
    "for struct_id in struct_ids:\n",
    "    s = client.get_structure(struct_id)\n",
    "    s_ase = AseAtomsAdaptor.get_atoms(s)\n",
    "    ase_structs.append(s_ase)"
   ]
  },
  {
   "cell_type": "code",
   "execution_count": 18,
   "id": "8c0cc653",
   "metadata": {},
   "outputs": [],
   "source": [
    "ase_2D_structs = []\n",
    "ase_2D_structs_score = []\n",
    "\n",
    "for atoms in ase_structs:\n",
    "    intervals = analyze_dimensionality(atoms, method='RDA')\n",
    "    m = intervals[0]\n",
    "    if m.dimtype == '2D' and m.score > 0.85:\n",
    "        ase_2D_structs.append(atoms)\n",
    "        ase_2D_structs_score.append(m.score)"
   ]
  },
  {
   "cell_type": "code",
   "execution_count": 20,
   "id": "461378ac",
   "metadata": {},
   "outputs": [],
   "source": [
    "if not os.path.exists('./Sc_Structures'):\n",
    "    os.makedirs('./Sc_Structures')\n",
    "    \n",
    "os.chdir('./Sc_Structures')\n",
    "\n",
    "for struct in ase_2D_structs:\n",
    "    write('geometry_{formula}.in'.format(formula=struct.symbols), struct, wrap=True, scaled=True)\n",
    "    \n",
    "os.chdir('..')"
   ]
  },
  {
   "cell_type": "markdown",
   "id": "0a06a311",
   "metadata": {},
   "source": [
    "Ti"
   ]
  },
  {
   "cell_type": "code",
   "execution_count": 34,
   "id": "ae8c5c5a",
   "metadata": {},
   "outputs": [],
   "source": [
    "struct_ids = []\n",
    "for contrib in contribs_Ti['data']:\n",
    "    c = client.get_contribution(contrib['id'])\n",
    "    struct_ids.append(c[\"structures\"][0]['id'])"
   ]
  },
  {
   "cell_type": "code",
   "execution_count": 35,
   "id": "42640818",
   "metadata": {},
   "outputs": [],
   "source": [
    "ase_structs = []\n",
    "for struct_id in struct_ids:\n",
    "    s = client.get_structure(struct_id)\n",
    "    s_ase = AseAtomsAdaptor.get_atoms(s)\n",
    "    ase_structs.append(s_ase)"
   ]
  },
  {
   "cell_type": "code",
   "execution_count": 36,
   "id": "c0710a67",
   "metadata": {},
   "outputs": [],
   "source": [
    "ase_2D_structs = []\n",
    "ase_2D_structs_score = []\n",
    "\n",
    "for atoms in ase_structs:\n",
    "    intervals = analyze_dimensionality(atoms, method='RDA')\n",
    "    m = intervals[0]\n",
    "    if m.dimtype == '2D' and m.score > 0.9:\n",
    "        ase_2D_structs.append(atoms)\n",
    "        ase_2D_structs_score.append(m.score)"
   ]
  },
  {
   "cell_type": "code",
   "execution_count": 37,
   "id": "a3af82e3",
   "metadata": {},
   "outputs": [],
   "source": [
    "if not os.path.exists('./Ti_Structures'):\n",
    "    os.makedirs('./Ti_Structures')\n",
    "    \n",
    "os.chdir('./Ti_Structures')\n",
    "\n",
    "for struct in ase_2D_structs:\n",
    "    write('geometry_{formula}.in'.format(formula=struct.symbols), struct, wrap=True, scaled=True)\n",
    "    \n",
    "os.chdir('..')"
   ]
  },
  {
   "cell_type": "markdown",
   "id": "422075f1",
   "metadata": {},
   "source": [
    "V"
   ]
  },
  {
   "cell_type": "code",
   "execution_count": 39,
   "id": "a44ebe7c",
   "metadata": {},
   "outputs": [],
   "source": [
    "struct_ids = []\n",
    "for contrib in contribs_V['data']:\n",
    "    c = client.get_contribution(contrib['id'])\n",
    "    struct_ids.append(c[\"structures\"][0]['id'])"
   ]
  },
  {
   "cell_type": "code",
   "execution_count": 40,
   "id": "7e9c553c",
   "metadata": {},
   "outputs": [],
   "source": [
    "ase_structs = []\n",
    "for struct_id in struct_ids:\n",
    "    s = client.get_structure(struct_id)\n",
    "    s_ase = AseAtomsAdaptor.get_atoms(s)\n",
    "    ase_structs.append(s_ase)"
   ]
  },
  {
   "cell_type": "code",
   "execution_count": 43,
   "id": "c7165083",
   "metadata": {},
   "outputs": [],
   "source": [
    "ase_2D_structs = []\n",
    "ase_2D_structs_score = []\n",
    "\n",
    "for atoms in ase_structs:\n",
    "    intervals = analyze_dimensionality(atoms, method='RDA')\n",
    "    m = intervals[0]\n",
    "    if m.dimtype == '2D' and m.score > 0.95:\n",
    "        ase_2D_structs.append(atoms)\n",
    "        ase_2D_structs_score.append(m.score)"
   ]
  },
  {
   "cell_type": "code",
   "execution_count": 44,
   "id": "eb2602be",
   "metadata": {},
   "outputs": [
    {
     "data": {
      "text/plain": [
       "[0.9540174175550963, 0.972188196986543, 0.9602934955411978]"
      ]
     },
     "execution_count": 44,
     "metadata": {},
     "output_type": "execute_result"
    }
   ],
   "source": [
    "ase_2D_structs_score"
   ]
  },
  {
   "cell_type": "code",
   "execution_count": 45,
   "id": "1b9479d0",
   "metadata": {},
   "outputs": [],
   "source": [
    "if not os.path.exists('./V_Structures'):\n",
    "    os.makedirs('./V_Structures')\n",
    "    \n",
    "os.chdir('./V_Structures')\n",
    "\n",
    "for struct in ase_2D_structs:\n",
    "    write('geometry_{formula}.in'.format(formula=struct.symbols), struct, wrap=True, scaled=True)\n",
    "    \n",
    "os.chdir('..')"
   ]
  },
  {
   "cell_type": "markdown",
   "id": "75595a62",
   "metadata": {},
   "source": [
    "Cr"
   ]
  },
  {
   "cell_type": "code",
   "execution_count": 46,
   "id": "853bdf61",
   "metadata": {},
   "outputs": [],
   "source": [
    "struct_ids = []\n",
    "for contrib in contribs_Cr['data']:\n",
    "    c = client.get_contribution(contrib['id'])\n",
    "    struct_ids.append(c[\"structures\"][0]['id'])"
   ]
  },
  {
   "cell_type": "code",
   "execution_count": 47,
   "id": "60b57990",
   "metadata": {},
   "outputs": [],
   "source": [
    "ase_structs = []\n",
    "for struct_id in struct_ids:\n",
    "    s = client.get_structure(struct_id)\n",
    "    s_ase = AseAtomsAdaptor.get_atoms(s)\n",
    "    ase_structs.append(s_ase)"
   ]
  },
  {
   "cell_type": "code",
   "execution_count": 50,
   "id": "dcaaafef",
   "metadata": {},
   "outputs": [],
   "source": [
    "ase_2D_structs = []\n",
    "ase_2D_structs_score = []\n",
    "\n",
    "for atoms in ase_structs:\n",
    "    intervals = analyze_dimensionality(atoms, method='RDA')\n",
    "    m = intervals[0]\n",
    "    if m.dimtype == '2D' and m.score > 0.85:\n",
    "        ase_2D_structs.append(atoms)\n",
    "        ase_2D_structs_score.append(m.score)"
   ]
  },
  {
   "cell_type": "code",
   "execution_count": 51,
   "id": "5dfbcb41",
   "metadata": {},
   "outputs": [
    {
     "data": {
      "text/plain": [
       "[0.9339773173091427, 0.8771646482655973, 0.8954160265561042]"
      ]
     },
     "execution_count": 51,
     "metadata": {},
     "output_type": "execute_result"
    }
   ],
   "source": [
    "ase_2D_structs_score"
   ]
  },
  {
   "cell_type": "code",
   "execution_count": 52,
   "id": "f0bc3cc6",
   "metadata": {},
   "outputs": [],
   "source": [
    "if not os.path.exists('./Cr_Structures'):\n",
    "    os.makedirs('./Cr_Structures')\n",
    "    \n",
    "os.chdir('./Cr_Structures')\n",
    "\n",
    "for struct in ase_2D_structs:\n",
    "    write('geometry_{formula}.in'.format(formula=struct.symbols), struct, wrap=True, scaled=True)\n",
    "    \n",
    "os.chdir('..')"
   ]
  },
  {
   "cell_type": "markdown",
   "id": "16080c32",
   "metadata": {},
   "source": [
    "Mn"
   ]
  },
  {
   "cell_type": "code",
   "execution_count": 55,
   "id": "a6f8f272",
   "metadata": {},
   "outputs": [],
   "source": [
    "struct_ids = []\n",
    "for contrib in contribs_Mn:\n",
    "    c = client.get_contribution(contrib['id'])\n",
    "    struct_ids.append(c[\"structures\"][0]['id'])"
   ]
  },
  {
   "cell_type": "code",
   "execution_count": 56,
   "id": "77c86845",
   "metadata": {},
   "outputs": [],
   "source": [
    "ase_structs = []\n",
    "for struct_id in struct_ids:\n",
    "    s = client.get_structure(struct_id)\n",
    "    s_ase = AseAtomsAdaptor.get_atoms(s)\n",
    "    ase_structs.append(s_ase)"
   ]
  },
  {
   "cell_type": "code",
   "execution_count": 59,
   "id": "7b622bd2",
   "metadata": {},
   "outputs": [],
   "source": [
    "ase_2D_structs = []\n",
    "ase_2D_structs_score = []\n",
    "\n",
    "for atoms in ase_structs:\n",
    "    intervals = analyze_dimensionality(atoms, method='RDA')\n",
    "    m = intervals[0]\n",
    "    if m.dimtype == '2D' and m.score > 0.95:\n",
    "        ase_2D_structs.append(atoms)\n",
    "        ase_2D_structs_score.append(m.score)"
   ]
  },
  {
   "cell_type": "code",
   "execution_count": 60,
   "id": "a6795971",
   "metadata": {},
   "outputs": [
    {
     "data": {
      "text/plain": [
       "[0.965377432430108, 0.9529649377959213]"
      ]
     },
     "execution_count": 60,
     "metadata": {},
     "output_type": "execute_result"
    }
   ],
   "source": [
    "ase_2D_structs_score"
   ]
  },
  {
   "cell_type": "code",
   "execution_count": 61,
   "id": "b376403b",
   "metadata": {},
   "outputs": [],
   "source": [
    "if not os.path.exists('./Mn_Structures'):\n",
    "    os.makedirs('./Mn_Structures')\n",
    "    \n",
    "os.chdir('./Mn_Structures')\n",
    "\n",
    "for struct in ase_2D_structs:\n",
    "    write('geometry_{formula}.in'.format(formula=struct.symbols), struct, wrap=True, scaled=True)\n",
    "    \n",
    "os.chdir('..')"
   ]
  },
  {
   "cell_type": "markdown",
   "id": "f1bef2c3",
   "metadata": {},
   "source": [
    "Fe"
   ]
  },
  {
   "cell_type": "code",
   "execution_count": 62,
   "id": "94d43088",
   "metadata": {},
   "outputs": [],
   "source": [
    "struct_ids = []\n",
    "for contrib in contribs_Fe['data']:\n",
    "    c = client.get_contribution(contrib['id'])\n",
    "    struct_ids.append(c[\"structures\"][0]['id'])"
   ]
  },
  {
   "cell_type": "code",
   "execution_count": 63,
   "id": "a6793a8d",
   "metadata": {},
   "outputs": [],
   "source": [
    "ase_structs = []\n",
    "for struct_id in struct_ids:\n",
    "    s = client.get_structure(struct_id)\n",
    "    s_ase = AseAtomsAdaptor.get_atoms(s)\n",
    "    ase_structs.append(s_ase)"
   ]
  },
  {
   "cell_type": "code",
   "execution_count": 66,
   "id": "e2d0eb7a",
   "metadata": {},
   "outputs": [],
   "source": [
    "ase_2D_structs = []\n",
    "ase_2D_structs_score = []\n",
    "\n",
    "for atoms in ase_structs:\n",
    "    intervals = analyze_dimensionality(atoms, method='RDA')\n",
    "    m = intervals[0]\n",
    "    if m.dimtype == '2D' and m.score > 0.95:\n",
    "        ase_2D_structs.append(atoms)\n",
    "        ase_2D_structs_score.append(m.score)"
   ]
  },
  {
   "cell_type": "code",
   "execution_count": 67,
   "id": "a1dc8199",
   "metadata": {},
   "outputs": [
    {
     "data": {
      "text/plain": [
       "[0.9546129481530804,\n",
       " 0.9642834175902659,\n",
       " 0.9511682004692138,\n",
       " 0.9523272016545203,\n",
       " 0.9534500098028063,\n",
       " 0.9505182514590895,\n",
       " 0.9744271244711873,\n",
       " 0.9517711898048071,\n",
       " 0.9633193900932486,\n",
       " 0.9573172522110607,\n",
       " 0.9715937137025216]"
      ]
     },
     "execution_count": 67,
     "metadata": {},
     "output_type": "execute_result"
    }
   ],
   "source": [
    "ase_2D_structs_score"
   ]
  },
  {
   "cell_type": "code",
   "execution_count": 68,
   "id": "fa507b72",
   "metadata": {},
   "outputs": [],
   "source": [
    "if not os.path.exists('./Fe_Structures'):\n",
    "    os.makedirs('./Fe_Structures')\n",
    "    \n",
    "os.chdir('./Fe_Structures')\n",
    "\n",
    "for struct in ase_2D_structs:\n",
    "    write('geometry_{formula}.in'.format(formula=struct.symbols), struct, wrap=True, scaled=True)\n",
    "    \n",
    "os.chdir('..')"
   ]
  },
  {
   "cell_type": "markdown",
   "id": "19c785bd",
   "metadata": {},
   "source": [
    "Co"
   ]
  },
  {
   "cell_type": "code",
   "execution_count": 69,
   "id": "ac0a2390",
   "metadata": {},
   "outputs": [],
   "source": [
    "struct_ids = []\n",
    "for contrib in contribs_Co:\n",
    "    c = client.get_contribution(contrib['id'])\n",
    "    struct_ids.append(c[\"structures\"][0]['id'])"
   ]
  },
  {
   "cell_type": "code",
   "execution_count": 70,
   "id": "23e4eece",
   "metadata": {},
   "outputs": [],
   "source": [
    "ase_structs = []\n",
    "for struct_id in struct_ids:\n",
    "    s = client.get_structure(struct_id)\n",
    "    s_ase = AseAtomsAdaptor.get_atoms(s)\n",
    "    ase_structs.append(s_ase)"
   ]
  },
  {
   "cell_type": "code",
   "execution_count": 71,
   "id": "9ef87d19",
   "metadata": {},
   "outputs": [],
   "source": [
    "ase_2D_structs = []\n",
    "ase_2D_structs_score = []\n",
    "\n",
    "for atoms in ase_structs:\n",
    "    intervals = analyze_dimensionality(atoms, method='RDA')\n",
    "    m = intervals[0]\n",
    "    if m.dimtype == '2D' and m.score > 0.95:\n",
    "        ase_2D_structs.append(atoms)\n",
    "        ase_2D_structs_score.append(m.score)"
   ]
  },
  {
   "cell_type": "code",
   "execution_count": 72,
   "id": "1436ed8f",
   "metadata": {},
   "outputs": [
    {
     "data": {
      "text/plain": [
       "[0.9511117810127387,\n",
       " 0.9666832355867786,\n",
       " 0.973623019746315,\n",
       " 0.9645147951886931,\n",
       " 0.9627121989907774,\n",
       " 0.9661617372673046,\n",
       " 0.9564544110777665,\n",
       " 0.9609153347190984,\n",
       " 0.9555094989693859,\n",
       " 0.956642723692101,\n",
       " 0.9575198073849012,\n",
       " 0.9526035154730712,\n",
       " 0.9517100798691449]"
      ]
     },
     "execution_count": 72,
     "metadata": {},
     "output_type": "execute_result"
    }
   ],
   "source": [
    "ase_2D_structs_score"
   ]
  },
  {
   "cell_type": "code",
   "execution_count": 73,
   "id": "83936694",
   "metadata": {},
   "outputs": [],
   "source": [
    "if not os.path.exists('./Co_Structures'):\n",
    "    os.makedirs('./Co_Structures')\n",
    "    \n",
    "os.chdir('./Co_Structures')\n",
    "\n",
    "for struct in ase_2D_structs:\n",
    "    write('geometry_{formula}.in'.format(formula=struct.symbols), struct, wrap=True, scaled=True)\n",
    "    \n",
    "os.chdir('..')"
   ]
  },
  {
   "cell_type": "markdown",
   "id": "7dca9714",
   "metadata": {},
   "source": [
    "Ni"
   ]
  },
  {
   "cell_type": "code",
   "execution_count": 74,
   "id": "391fd5ff",
   "metadata": {},
   "outputs": [],
   "source": [
    "struct_ids = []\n",
    "for contrib in contribs_Ni:\n",
    "    c = client.get_contribution(contrib['id'])\n",
    "    struct_ids.append(c[\"structures\"][0]['id'])"
   ]
  },
  {
   "cell_type": "code",
   "execution_count": 75,
   "id": "df6bb860",
   "metadata": {},
   "outputs": [],
   "source": [
    "ase_structs = []\n",
    "for struct_id in struct_ids:\n",
    "    s = client.get_structure(struct_id)\n",
    "    s_ase = AseAtomsAdaptor.get_atoms(s)\n",
    "    ase_structs.append(s_ase)"
   ]
  },
  {
   "cell_type": "code",
   "execution_count": 76,
   "id": "222e930c",
   "metadata": {},
   "outputs": [],
   "source": [
    "ase_2D_structs = []\n",
    "ase_2D_structs_score = []\n",
    "\n",
    "for atoms in ase_structs:\n",
    "    intervals = analyze_dimensionality(atoms, method='RDA')\n",
    "    m = intervals[0]\n",
    "    if m.dimtype == '2D' and m.score > 0.95:\n",
    "        ase_2D_structs.append(atoms)\n",
    "        ase_2D_structs_score.append(m.score)"
   ]
  },
  {
   "cell_type": "code",
   "execution_count": 77,
   "id": "c3a7c900",
   "metadata": {},
   "outputs": [
    {
     "data": {
      "text/plain": [
       "[0.9692858980344249, 0.9574844526861624]"
      ]
     },
     "execution_count": 77,
     "metadata": {},
     "output_type": "execute_result"
    }
   ],
   "source": [
    "ase_2D_structs_score"
   ]
  },
  {
   "cell_type": "code",
   "execution_count": 78,
   "id": "e83bb772",
   "metadata": {},
   "outputs": [],
   "source": [
    "if not os.path.exists('./Ni_Structures'):\n",
    "    os.makedirs('./Ni_Structures')\n",
    "    \n",
    "os.chdir('./Ni_Structures')\n",
    "\n",
    "for struct in ase_2D_structs:\n",
    "    write('geometry_{formula}.in'.format(formula=struct.symbols), struct, wrap=True, scaled=True)\n",
    "    \n",
    "os.chdir('..')"
   ]
  }
 ],
 "metadata": {
  "kernelspec": {
   "display_name": "Python 3 (ipykernel)",
   "language": "python",
   "name": "python3"
  },
  "language_info": {
   "codemirror_mode": {
    "name": "ipython",
    "version": 3
   },
   "file_extension": ".py",
   "mimetype": "text/x-python",
   "name": "python",
   "nbconvert_exporter": "python",
   "pygments_lexer": "ipython3",
   "version": "3.7.0"
  }
 },
 "nbformat": 4,
 "nbformat_minor": 5
}
